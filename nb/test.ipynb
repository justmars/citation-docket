{
 "cells": [
  {
   "cell_type": "code",
   "execution_count": null,
   "metadata": {},
   "outputs": [],
   "source": [
    "from citation_utils import CitableDocument, Citation, CountedCitation\n",
    "\n",
    "text1 = \"Viluan v. The Court of Appeals, et al., G.R. Nos. L-21477-81, April 29, 1966, 16 SCRA 742\"  # noqa: E501\n",
    "text2 = \"A.M. No. 09-6-1-SC, January 21, 2015\"\n",
    "text4 = \"*Valero v. CA, et al.*, L­36667, June 29, 1973\"  # noqa: E501 # missing gr keyword, will not match\n",
    "repr_texts = [\n",
    "    \"BM No. 412, Jan 01, 2000, 1111 SCRA 1111: 3\",\n",
    "    \"GR No. 147033, Apr 30, 2003, 374 Phil. 1: 3\",\n",
    "]"
   ]
  },
  {
   "cell_type": "code",
   "execution_count": null,
   "metadata": {},
   "outputs": [],
   "source": [
    "a = next(CountedCitation.from_repr_format(repr_texts))"
   ]
  },
  {
   "cell_type": "code",
   "execution_count": null,
   "metadata": {},
   "outputs": [],
   "source": [
    "CountedCitation.from_source(text=text1)"
   ]
  },
  {
   "cell_type": "code",
   "execution_count": null,
   "metadata": {},
   "outputs": [],
   "source": [
    "from citation_utils.dockets import CitationAM, CitationGR\n",
    "\n",
    "next(CitationGR.search(text4))"
   ]
  },
  {
   "cell_type": "code",
   "execution_count": null,
   "metadata": {},
   "outputs": [],
   "source": [
    "obj = next(CitableDocument.get_docketed_reports(text=text1))\n",
    "obj"
   ]
  }
 ],
 "metadata": {
  "kernelspec": {
   "display_name": ".venv",
   "language": "python",
   "name": "python3"
  },
  "language_info": {
   "codemirror_mode": {
    "name": "ipython",
    "version": 3
   },
   "file_extension": ".py",
   "mimetype": "text/x-python",
   "name": "python",
   "nbconvert_exporter": "python",
   "pygments_lexer": "ipython3",
   "version": "3.11.4"
  }
 },
 "nbformat": 4,
 "nbformat_minor": 2
}
