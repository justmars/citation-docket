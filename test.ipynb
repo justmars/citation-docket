{
 "cells": [
  {
   "cell_type": "code",
   "execution_count": null,
   "metadata": {},
   "outputs": [],
   "source": [
    "from citation_utils import Citation, CountedCitation, CitableDocument\n",
    "text1 = \"Viluan v. The Court of Appeals, et al., G.R. Nos. L-21477-81, April 29, 1966, 16 SCRA 742\"\n",
    "text2 = \"A.M. No. 09-6-1-SC, January 21, 2015\"\n",
    "text4 = \"*Valero v. CA, et al.*, L­36667, June 29, 1973\" # missing gr keyword, will not match"
   ]
  },
  {
   "cell_type": "code",
   "execution_count": null,
   "metadata": {},
   "outputs": [],
   "source": [
    "list(CitableDocument.get_docketed_reports(text=text1))"
   ]
  },
  {
   "cell_type": "code",
   "execution_count": null,
   "metadata": {},
   "outputs": [],
   "source": [
    "CountedCitation.from_source(text=text1)"
   ]
  },
  {
   "cell_type": "code",
   "execution_count": null,
   "metadata": {},
   "outputs": [],
   "source": [
    "from citation_utils.dockets import CitationAM, CitationGR\n",
    "next(CitationGR.search(text4))"
   ]
  },
  {
   "cell_type": "code",
   "execution_count": null,
   "metadata": {},
   "outputs": [],
   "source": [
    "obj = next(CitableDocument.get_docketed_reports(text=text1))\n",
    "obj"
   ]
  }
 ],
 "metadata": {
  "kernelspec": {
   "display_name": ".venv",
   "language": "python",
   "name": "python3"
  },
  "language_info": {
   "codemirror_mode": {
    "name": "ipython",
    "version": 3
   },
   "file_extension": ".py",
   "mimetype": "text/x-python",
   "name": "python",
   "nbconvert_exporter": "python",
   "pygments_lexer": "ipython3",
   "version": "3.11.4"
  },
  "orig_nbformat": 4
 },
 "nbformat": 4,
 "nbformat_minor": 2
}
