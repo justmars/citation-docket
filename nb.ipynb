{
 "cells": [
  {
   "cell_type": "code",
   "execution_count": null,
   "metadata": {},
   "outputs": [],
   "source": [
    "from citation_docket import extract_docket_from_data, extract_dockets, extract_docket_meta, CitationAC, CitationAM, CitationBM, CitationGR, CitationOCA, CitationPET\n",
    "text = \"P.E.T. Case No. 001, February 13, 1996\"\n",
    "cite = next(CitationPET.search(text))\n",
    "cite.model_dump(exclude_none=True)"
   ]
  }
 ],
 "metadata": {
  "kernelspec": {
   "display_name": ".venv",
   "language": "python",
   "name": "python3"
  },
  "language_info": {
   "codemirror_mode": {
    "name": "ipython",
    "version": 3
   },
   "file_extension": ".py",
   "mimetype": "text/x-python",
   "name": "python",
   "nbconvert_exporter": "python",
   "pygments_lexer": "ipython3",
   "version": "3.11.4"
  },
  "orig_nbformat": 4
 },
 "nbformat": 4,
 "nbformat_minor": 2
}
