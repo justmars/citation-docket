{
 "cells": [
  {
   "cell_type": "code",
   "execution_count": null,
   "metadata": {},
   "outputs": [],
   "source": [
    "\n",
    "from citation_report import Report\n",
    "from citation_docket.main import Citation\n",
    "from citation_docket import extract_docketables\n",
    "from citation_docket.document import CitableDocument\n",
    "from citation_docket import extract_docketables, extract_docket_meta, CitationAC, CitationAM, CitationBM, CitationGR, CitationOCA, CitationPET, CitationJIB, CitationUDK\n",
    "text = \"\"\"\n",
    "            374 Phil. 1, 10-11 (1999)\n",
    "            1111 SCRA 1111;\n",
    "            G.R. No. 147033, April 30, 2003;\n",
    "            G.R. No. 147033, April 30, 2003, 374 Phil. 1, 600;\n",
    "            ABC v. XYZ, G.R. Nos. 138570, 138572, 138587, 138680, 138698, October 10, 2000, 342 SCRA 449; \n",
    "            XXX, G.R. No. 31711, Sept. 30, 1971, 35 SCRA 190;\n",
    "            Hello World, 1111 SCRA 1111;\n",
    "            Y v. Z, 35 SCRA 190;\n",
    "            Bar Matter No. 803, Jan. 1, 2000\n",
    "            Bar Matter No. 411, Feb. 1, 2000\n",
    "            Bar Matter No. 412, Jan. 1, 2000;\n",
    "            374 Phil. 1'\n",
    "        \"\"\"\n",
    "# list(extract_docketables(text))"
   ]
  },
  {
   "cell_type": "code",
   "execution_count": null,
   "metadata": {},
   "outputs": [],
   "source": [
    "list(Citation.extract_citations(text))"
   ]
  },
  {
   "cell_type": "code",
   "execution_count": null,
   "metadata": {},
   "outputs": [],
   "source": [
    "doc = CitableDocument(text=text)"
   ]
  },
  {
   "cell_type": "code",
   "execution_count": null,
   "metadata": {},
   "outputs": [],
   "source": [
    "raw_citations = list(doc.get_citations())"
   ]
  },
  {
   "cell_type": "code",
   "execution_count": null,
   "metadata": {},
   "outputs": [],
   "source": [
    "list(extract_docketables(text))"
   ]
  },
  {
   "cell_type": "code",
   "execution_count": null,
   "metadata": {},
   "outputs": [],
   "source": [
    "raw_citations"
   ]
  },
  {
   "cell_type": "code",
   "execution_count": null,
   "metadata": {},
   "outputs": [],
   "source": [
    "list(Citation.from_strings(raw_citations))"
   ]
  },
  {
   "cell_type": "code",
   "execution_count": null,
   "metadata": {},
   "outputs": [],
   "source": [
    "text2 = \"374 Phil. 1, 10-11 (1999) 1111 SCRA 1111; G.R. No. 147033, April 30, 2003; G.R. No. 147033, April 30, 2003, 374 Phil. 1, 600; ABC v. XYZ, G.R. Nos. 138570, 138572, 138587, 138680, 138698, October 10, 2000, 342 SCRA 449;  XXX, G.R. No. 31711, Sept. 30, 1971, 35 SCRA 190; Hello World, 1111 SCRA 1111; Y v. Z, 35 SCRA 190;\"\n",
    "doc = CitableDocument(text=text2)"
   ]
  },
  {
   "cell_type": "code",
   "execution_count": null,
   "metadata": {},
   "outputs": [],
   "source": [
    "doc.citeable_list"
   ]
  },
  {
   "cell_type": "code",
   "execution_count": null,
   "metadata": {},
   "outputs": [],
   "source": [
    "doc.statute_like"
   ]
  },
  {
   "cell_type": "code",
   "execution_count": null,
   "metadata": {},
   "outputs": [],
   "source": [
    "doc.citeable_decisions"
   ]
  },
  {
   "cell_type": "code",
   "execution_count": null,
   "metadata": {},
   "outputs": [],
   "source": [
    "doc.undocketed"
   ]
  },
  {
   "cell_type": "code",
   "execution_count": null,
   "metadata": {},
   "outputs": [],
   "source": [
    "for d in extract_docketables(text):\n",
    "      if d.volpubpage is not None:\n",
    "          if d.volpubpage in unique_volpubpages:\n",
    "              unique_volpubpages.remove(d.volpubpage)"
   ]
  },
  {
   "cell_type": "code",
   "execution_count": null,
   "metadata": {},
   "outputs": [],
   "source": [
    "unique_volpubpages"
   ]
  },
  {
   "cell_type": "code",
   "execution_count": null,
   "metadata": {},
   "outputs": [],
   "source": [
    "\n",
    "text = \"P.E.T. Case No. 001, February 13, 1996\"\n",
    "cite = next(CitationPET.search(text))\n",
    "cite.model_dump(exclude_none=True)"
   ]
  },
  {
   "cell_type": "code",
   "execution_count": null,
   "metadata": {},
   "outputs": [],
   "source": [
    "extract_docket_meta(\"G.R. No. 234179. December 5, 2022 [Date Uploaded: 01/26/2023]\")"
   ]
  },
  {
   "cell_type": "code",
   "execution_count": null,
   "metadata": {},
   "outputs": [],
   "source": [
    "from enum import StrEnum\n",
    "\n",
    "class DocketCategory(StrEnum):\n",
    "    \"\"\"Common docket references involving Philippine Supreme Court decisions.\n",
    "\n",
    "    Name | Value\n",
    "    :--|:--\n",
    "    `GR` | General Register\n",
    "    `AM` | Administrative Matter\n",
    "    `AC` | Administrative Case\n",
    "    `BM` | Bar Matter\n",
    "    `PET` | Presidential Electoral Tribunal\n",
    "    `OCA` | Office of the Court Administrator\n",
    "    `JIB` | Judicial Integrity Board\n",
    "    `UDK` | Undocketed\n",
    "\n",
    "    Complication: These categories do not always represent decisions. For instance,\n",
    "    there are are `AM` and `BM` docket numbers that represent rules rather\n",
    "    than decisions.\n",
    "    \"\"\"\n",
    "\n",
    "    GR = \"General Register\"\n",
    "    AM = \"Administrative Matter\"\n",
    "    AC = \"Administrative Case\"\n",
    "    BM = \"Bar Matter\"\n",
    "    PET = \"Presidential Electoral Tribunal\"\n",
    "    OCA = \"Office of the Court Administrator\"\n",
    "    JIB = \"Judicial Integrity Board\"\n",
    "    UDK = \"Undocketed\"\n",
    "    \n",
    "DocketCategory.GR"
   ]
  }
 ],
 "metadata": {
  "kernelspec": {
   "display_name": ".venv",
   "language": "python",
   "name": "python3"
  },
  "language_info": {
   "codemirror_mode": {
    "name": "ipython",
    "version": 3
   },
   "file_extension": ".py",
   "mimetype": "text/x-python",
   "name": "python",
   "nbconvert_exporter": "python",
   "pygments_lexer": "ipython3",
   "version": "3.11.4"
  },
  "orig_nbformat": 4
 },
 "nbformat": 4,
 "nbformat_minor": 2
}
