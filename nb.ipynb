{
 "cells": [
  {
   "cell_type": "code",
   "execution_count": null,
   "metadata": {},
   "outputs": [],
   "source": [
    "\n",
    "from citation_report import Report\n",
    "from citation_utils.citation import Citation, CountedCitation\n",
    "from citation_utils import CitableDocument\n",
    "from citation_utils.document import CitableDocument\n",
    "from citation_utils import CitableDocument, extract_docket_meta, CitationAC, CitationAM, CitationBM, CitationGR, CitationOCA, CitationPET, CitationJIB, CitationUDK\n",
    "text = \"\"\"374 Phil. 1, 10-11 (1999) 1111 SCRA 1111; G.R. No. 147033, April 30, 2003; G.R. No. 147033, April 30, 2003, 374 Phil. 1, 600; ABC v. XYZ, G.R. Nos. 138570, 138572, 138587, 138680, 138698, October 10, 2000, 342 SCRA 449;  XXX, G.R. No. 31711, Sept. 30, 1971, 35 SCRA 190; Hello World, 1111 SCRA 1111; Y v. Z, 35 SCRA 190; 1 Off. Gaz. 41 Bar Matter No. 803, Jan. 1, 2000 Bar Matter No. 411, Feb. 1, 2000 Bar Matter No. 412, Jan. 1, 2000, 1111 SCRA 1111; 374 Phil. 1'\"\"\"\n",
    "text2 = \"\"\"<em>Gatchalian Promotions Talent Pool, Inc. v. Atty. Naldoza</em>,\n",
    "            374 Phil. 1, 10-11 (1999), citing: <em>In re Almacen</em>, 31 SCRA 562, 600\n",
    "            (1970).; People v. Umayam, G.R. No. 147033, April 30, 2003;\n",
    "            <i>Bagong Alyansang Makabayan v. Zamora,</i> G.R. Nos. 138570, 138572,\n",
    "            138587, 138680, 138698, October 10, 2000, 342 SCRA 449; Villegas <em>v.</em>\n",
    "            Subido, G.R. No. 31711, Sept. 30, 1971, 41 SCRA 190;\"\"\"\n",
    "# list(CitableDocument.get_docketed_reports(text))"
   ]
  },
  {
   "cell_type": "code",
   "execution_count": null,
   "metadata": {},
   "outputs": [],
   "source": [
    "x = list(CountedCitation.from_source(text))\n",
    "x"
   ]
  },
  {
   "cell_type": "code",
   "execution_count": null,
   "metadata": {},
   "outputs": [],
   "source": [
    "a = CountedCitation.counted_docket_reports(text)\n",
    "a"
   ]
  },
  {
   "cell_type": "code",
   "execution_count": null,
   "metadata": {},
   "outputs": [],
   "source": [
    "b = CountedCitation.counted_reports(text)\n",
    "b"
   ]
  },
  {
   "cell_type": "code",
   "execution_count": null,
   "metadata": {},
   "outputs": [],
   "source": [
    "c = CountedCitation.from_source(text)\n",
    "c"
   ]
  },
  {
   "cell_type": "code",
   "execution_count": null,
   "metadata": {},
   "outputs": [],
   "source": [
    "repr_texts = ['BM No. 412, Jan 01, 2000, 1111 SCRA 1111: 3', 'GR No. 147033, Apr 30, 2003, 374 Phil. 1: 3']\n",
    "text = repr_texts[0]\n",
    "counted_bits = text.split(\":\")\n",
    "CountedCitation.extract_citation(counted_bits[0].strip())\n"
   ]
  }
 ],
 "metadata": {
  "kernelspec": {
   "display_name": ".venv",
   "language": "python",
   "name": "python3"
  },
  "language_info": {
   "codemirror_mode": {
    "name": "ipython",
    "version": 3
   },
   "file_extension": ".py",
   "mimetype": "text/x-python",
   "name": "python",
   "nbconvert_exporter": "python",
   "pygments_lexer": "ipython3",
   "version": "3.11.4"
  },
  "orig_nbformat": 4
 },
 "nbformat": 4,
 "nbformat_minor": 2
}
