{
 "cells": [
  {
   "cell_type": "code",
   "execution_count": null,
   "metadata": {},
   "outputs": [],
   "source": [
    "\n",
    "from citation_report import Report\n",
    "from citation_utils.citation import Citation\n",
    "from citation_utils import extract_docketables\n",
    "from citation_utils.document import CitableDocument\n",
    "from citation_utils import extract_docketables, extract_docket_meta, CitationAC, CitationAM, CitationBM, CitationGR, CitationOCA, CitationPET, CitationJIB, CitationUDK\n",
    "text = \"\"\"\n",
    "            374 Phil. 1, 10-11 (1999)\n",
    "            1111 SCRA 1111;\n",
    "            G.R. No. 147033, April 30, 2003;\n",
    "            G.R. No. 147033, April 30, 2003, 374 Phil. 1, 600;\n",
    "            ABC v. XYZ, G.R. Nos. 138570, 138572, 138587, 138680, 138698, October 10, 2000, 342 SCRA 449; \n",
    "            XXX, G.R. No. 31711, Sept. 30, 1971, 35 SCRA 190;\n",
    "            Hello World, 1111 SCRA 1111;\n",
    "            Y v. Z, 35 SCRA 190;\n",
    "            1 Off. Gaz. 41\n",
    "            Bar Matter No. 803, Jan. 1, 2000\n",
    "            Bar Matter No. 411, Feb. 1, 2000\n",
    "            Bar Matter No. 412, Jan. 1, 2000;\n",
    "            374 Phil. 1'\n",
    "        \"\"\"\n",
    "text2 = \"\"\"<em>Gatchalian Promotions Talent Pool, Inc. v. Atty. Naldoza</em>,\n",
    "            374 Phil. 1, 10-11 (1999), citing: <em>In re Almacen</em>, 31 SCRA 562, 600\n",
    "            (1970).; People v. Umayam, G.R. No. 147033, April 30, 2003;\n",
    "            <i>Bagong Alyansang Makabayan v. Zamora,</i> G.R. Nos. 138570, 138572,\n",
    "            138587, 138680, 138698, October 10, 2000, 342 SCRA 449; Villegas <em>v.</em>\n",
    "            Subido, G.R. No. 31711, Sept. 30, 1971, 41 SCRA 190;\"\"\"\n",
    "# list(extract_docketables(text))"
   ]
  }
 ],
 "metadata": {
  "kernelspec": {
   "display_name": ".venv",
   "language": "python",
   "name": "python3"
  },
  "language_info": {
   "codemirror_mode": {
    "name": "ipython",
    "version": 3
   },
   "file_extension": ".py",
   "mimetype": "text/x-python",
   "name": "python",
   "nbconvert_exporter": "python",
   "pygments_lexer": "ipython3",
   "version": "3.11.4"
  },
  "orig_nbformat": 4
 },
 "nbformat": 4,
 "nbformat_minor": 2
}
