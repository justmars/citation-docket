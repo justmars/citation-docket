{
 "cells": [
  {
   "cell_type": "code",
   "execution_count": 1,
   "metadata": {},
   "outputs": [
    {
     "data": {
      "text/plain": [
       "{'context': 'P.E.T. Case No. 001',\n",
       " 'short_category': <ShortDocketCategory.PET: 'PET'>,\n",
       " 'category': <DocketCategory.PET: 'Presidential Electoral Tribunal'>,\n",
       " 'ids': '001',\n",
       " 'docket_date': datetime.date(1996, 2, 13)}"
      ]
     },
     "execution_count": 1,
     "metadata": {},
     "output_type": "execute_result"
    },
    {
     "name": "stderr",
     "output_type": "stream",
     "text": [
      "Executing <Task pending name='Task-4' coro=<Kernel.dispatch_queue() running at /Users/mv/Code/citation-docket/.venv/lib/python3.11/site-packages/ipykernel/kernelbase.py:513> wait_for=<Future pending cb=[Task.task_wakeup()] created at /Users/mv/Code/citation-docket/.venv/lib/python3.11/site-packages/tornado/queues.py:248> cb=[IOLoop.add_future.<locals>.<lambda>() at /Users/mv/Code/citation-docket/.venv/lib/python3.11/site-packages/tornado/ioloop.py:685] created at /Users/mv/.pyenv/versions/3.11.4/lib/python3.11/asyncio/tasks.py:670> took 0.196 seconds\n"
     ]
    }
   ],
   "source": [
    "from citation_docket import extract_docket_from_data, extract_dockets, extract_docket_meta, CitationAC, CitationAM, CitationBM, CitationGR, CitationOCA, CitationPET\n",
    "text = \"P.E.T. Case No. 001, February 13, 1996\"\n",
    "cite = next(CitationPET.search(text))\n",
    "cite.model_dump(exclude_none=True)"
   ]
  },
  {
   "cell_type": "code",
   "execution_count": 2,
   "metadata": {},
   "outputs": [
    {
     "data": {
      "text/plain": [
       "'PET 001, Feb. 13, 1996'"
      ]
     },
     "execution_count": 2,
     "metadata": {},
     "output_type": "execute_result"
    }
   ],
   "source": [
    "str(cite)"
   ]
  }
 ],
 "metadata": {
  "kernelspec": {
   "display_name": ".venv",
   "language": "python",
   "name": "python3"
  },
  "language_info": {
   "codemirror_mode": {
    "name": "ipython",
    "version": 3
   },
   "file_extension": ".py",
   "mimetype": "text/x-python",
   "name": "python",
   "nbconvert_exporter": "python",
   "pygments_lexer": "ipython3",
   "version": "3.11.4"
  },
  "orig_nbformat": 4
 },
 "nbformat": 4,
 "nbformat_minor": 2
}
